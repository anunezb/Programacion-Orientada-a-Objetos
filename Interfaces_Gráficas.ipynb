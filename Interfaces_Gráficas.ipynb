{
 "cells": [
  {
   "cell_type": "markdown",
   "metadata": {},
   "source": [
    "# Interfaces gráficas"
   ]
  },
  {
   "cell_type": "markdown",
   "metadata": {},
   "source": [
    "Una interfaz gráfica (GUI en inglés), es un intermediario entre el programa y el usuario. Están formados por un conjunto de gráficos, ventanas, botones, menús, casillas de verificación, listas, etc.\n",
    "En Python, algunas librerías que contiene todos los módulos necesarios para crear una interfaz gráfica son:\n",
    "1. **tkInter**\n",
    "2. Kivy\n",
    "3. WxPython\n",
    "3. PyQT\n",
    "4. PySide\n",
    "\n",
    "https://www.slant.co/topics/6620/~python-gui-frameworks-toolkits"
   ]
  },
  {
   "cell_type": "markdown",
   "metadata": {},
   "source": [
    "## **tkinter**"
   ]
  },
  {
   "cell_type": "markdown",
   "metadata": {},
   "source": [
    "Al construir un programa de interfaz gráfica en Python, existen diferentes elementos con los que se va a tener que interactuar. Dichos elementos son:\n",
    "\n",
    "1. **Raíz**: Librería tk, instalada por defecto en Python. La raíz es la ventana que va a contener todos los elementos del programa con los que va a interactuar el usuario.\n",
    "2. **Widgets**: Elementos dinámicos con los que va a interactuar el usuario.\n",
    "    -  **Frame**: El frame es un elemento que nos servirá para poder administrar el resto de los elementos."
   ]
  },
  {
   "cell_type": "markdown",
   "metadata": {},
   "source": [
    "Dentro de la libreria **tkinter**, existe una clase que nos servirá para crear las raices de nuestros programas. Dicha clase es **Tk()**. A su vez, dentro de la clase Tk, existe un método que nos permitirá tener en ejecución a la ventana, hasta que el usuario termine de interactuar con ella. Dicho método es **mainloop()**.\n",
    "\n",
    "Más información en https://docs.python.org/3/library/tk.html"
   ]
  },
  {
   "cell_type": "code",
   "execution_count": 8,
   "metadata": {},
   "outputs": [],
   "source": [
    "# Importamos la librería tkinter:\n",
    "from tkinter import *\n",
    "\n",
    "# Crearemos una primera ventana:\n",
    "raiz=Tk()\n",
    "raiz.mainloop()"
   ]
  },
  {
   "cell_type": "code",
   "execution_count": 11,
   "metadata": {},
   "outputs": [],
   "source": [
    "raiz=Tk()\n",
    "raiz.title(\"Mi primera ventana\")\n",
    "# El siguiente método es para evitar que el tamaño de la venta sea modificado.\n",
    "# Utiliza parametros booleanos para el ancho y alto.\n",
    "#raiz.resizable(0,0)\n",
    "# Método para cambiar el icono en el titulo de la ventana:\n",
    "raiz.iconbitmap(\"Super-Mario.ico\")\n",
    "# Establecer el ancho y el largo:\n",
    "raiz.geometry(\"500x400\")\n",
    "# Es posible configurar el color de fondo de la ventana tambien:\n",
    "raiz.config(bg=\"red\")\n",
    "raiz.mainloop()"
   ]
  },
  {
   "cell_type": "markdown",
   "metadata": {},
   "source": [
    "Dentro de las interfaz gráfica podremos tener diferentes elementos o widgets para interactuar. Por ejemplo un botón: "
   ]
  },
  {
   "cell_type": "code",
   "execution_count": 12,
   "metadata": {},
   "outputs": [],
   "source": [
    "from tkinter import *    # Carga módulo tk (widgets estándar)\n",
    "from tkinter import ttk  # Carga ttk (para widgets nuevos 8.5+)\n",
    "\n",
    "raiz=Tk()\n",
    "raiz.title(\"Aplicacion\")\n",
    "\n",
    "raiz.iconbitmap(\"Super-Mario.ico\")\n",
    "raiz.geometry(\"500x400\")\n",
    "raiz.config(bg=\"beige\")\n",
    "# Define un botón en la parte inferior de la ventana\n",
    "# que cuando sea presionado hará que termine el programa.\n",
    "# El primer parámetro indica el nombre de la ventana 'raiz'\n",
    "# donde se ubicará el botón\n",
    "ttk.Button(raiz, text='Salir', command=raiz.destroy).pack(side=BOTTOM)\n",
    "\n",
    "raiz.mainloop()"
   ]
  },
  {
   "cell_type": "markdown",
   "metadata": {},
   "source": [
    "Con una programación más orientada a objetos:"
   ]
  },
  {
   "cell_type": "code",
   "execution_count": 13,
   "metadata": {},
   "outputs": [],
   "source": [
    "from tkinter import *\n",
    "from tkinter import ttk\n",
    "\n",
    "# Crea una clase Python para definir el interfaz de usuario de\n",
    "# la aplicación. Cuando se cree un objeto del tipo 'Aplicacion'\n",
    "# se ejecutará automáticamente el método __init__() qué \n",
    "# construye y muestra la ventana con todos sus widgets: \n",
    "\n",
    "class Aplicacion():\n",
    "    def __init__(self):\n",
    "        raiz = Tk()\n",
    "        raiz.geometry('300x200')\n",
    "        raiz.configure(bg = 'beige')\n",
    "        raiz.title('Aplicación')\n",
    "        ttk.Button(raiz, text='Salir',command=raiz.destroy).pack(side=BOTTOM)\n",
    "        raiz.mainloop()\n",
    "        \n",
    "mi_app = Aplicacion() "
   ]
  },
  {
   "cell_type": "markdown",
   "metadata": {},
   "source": [
    "## Widgets  o Herramientas"
   ]
  },
  {
   "cell_type": "markdown",
   "metadata": {},
   "source": [
    "<table>\n",
    "  <tr>\n",
    "    <th>Clase</th>\n",
    "    <th>Librería</th>\n",
    "    <th>Descripción</th>\n",
    "  </tr>\n",
    "  <tr>\n",
    "    <td>Tk()</td>\n",
    "    <td>from tkinter import *</td>\n",
    "    <td>Clase para crear una ventana</td>\n",
    "  </tr>\n",
    "  <tr>\n",
    "    <td>Label(master, kwargs)</td>\n",
    "    <td>from tkinter import *</td>\n",
    "    <td>Clase para crear una etiqueta</td>\n",
    "  </tr>\n",
    "  <tr>\n",
    "    <td>Button(master, kwargs)</td>\n",
    "    <td>from tkinter import *</td>\n",
    "    <td>Clase para crear un botón</td>\n",
    "  </tr>\n",
    "  <tr>\n",
    "    <td>Entry(master, kwargs)</td>\n",
    "    <td>from tkinter import *</td>\n",
    "    <td>Clase para crear una caja de entrada de datos</td>\n",
    "  </tr>\n",
    "  <tr>\n",
    "    <td>Combobox(master)</td>\n",
    "    <td>from tkinter.ttk import *</td>\n",
    "    <td>Clase para crear una ventana de eventos</td>\n",
    "  </tr>\n",
    "  <tr>\n",
    "    <td>Checkbutton(master, kwargs)</td>\n",
    "    <td>from tkinter.ttk import *</td>\n",
    "    <td>Clase para crear una casilla de verificación</td>\n",
    "  </tr>\n",
    "  <tr>\n",
    "    <td>Radiobutton(master, kwargs)</td>\n",
    "    <td>from tkinter.ttk import *</td>\n",
    "    <td>Clase para crear botones de opción</td>\n",
    "  </tr>\n",
    "  <tr>\n",
    "    <td>scrolledtext.ScrolledText(master, kwargs)</td>\n",
    "    <td>from tkinter import scrolledtext</td>\n",
    "    <td>Clase para crear una caja de texto con barra de desplazamiento</td>\n",
    "  </tr>\n",
    "  <tr>\n",
    "    <td>messagebox.showinfo(\"Título del mensaje\", \"Contenido del mensaje\")</td>\n",
    "    <td>from tkinter import messagebox</td>\n",
    "    <td>Clase para crear una ventana de mensaje</td>\n",
    "  </tr>\n",
    "  <tr>\n",
    "    <td>Spinbox(master, kwargs)</td>\n",
    "    <td>from tkinter import *</td>\n",
    "    <td>Clase para crear una caja de entrada de datos con flechas de selección</td>\n",
    "  </tr>\n",
    "  <tr>\n",
    "    <td>Progressbar(master, kwargs)</td>\n",
    "    <td>from tkinter.ttk import Progressbar</td>\n",
    "    <td>Clase para crear una barra de progreso</td>\n",
    "  </tr>\n",
    "  <tr>\n",
    "    <td>Menu(master, kwargs)</td>\n",
    "    <td>from tkinter import Menu</td>\n",
    "    <td>Clase para crear un Menu en la parte superior de la ventana</td>\n",
    "  </tr>\n",
    "</table>"
   ]
  },
  {
   "cell_type": "markdown",
   "metadata": {},
   "source": [
    "### Label (Etiqueta)"
   ]
  },
  {
   "cell_type": "markdown",
   "metadata": {},
   "source": [
    "Este widget implementa una caja en la que se puede desplegar un texto o imagen. El contenido desplegado puede ser actualizado pero no es un elemento de interacción."
   ]
  },
  {
   "cell_type": "code",
   "execution_count": 16,
   "metadata": {},
   "outputs": [],
   "source": [
    "from tkinter import *\n",
    "\n",
    "root=Tk()\n",
    "root.geometry(\"200x200\")\n",
    "miLabel=Label(root, text=\"¡Bienvenidos a tkinter!\")\n",
    "miLabel.pack()\n",
    "\n",
    "root.mainloop()"
   ]
  },
  {
   "cell_type": "markdown",
   "metadata": {},
   "source": [
    "Todos los widgets tienen propiedades que se pueden cambiar. (Checa con shift+tab)"
   ]
  },
  {
   "cell_type": "code",
   "execution_count": 20,
   "metadata": {},
   "outputs": [
    {
     "data": {
      "text/plain": [
       "tkinter.Label"
      ]
     },
     "execution_count": 20,
     "metadata": {},
     "output_type": "execute_result"
    }
   ],
   "source": [
    "Label  #da shift+tab "
   ]
  },
  {
   "cell_type": "markdown",
   "metadata": {},
   "source": [
    "<table>\n",
    "  <tr>\n",
    "    <th>kwargs</th>\n",
    "    <th>Parámetro(s)</th>\n",
    "    <th>Descripción</th>\n",
    "  </tr>\n",
    "  <tr>\n",
    "    <td>Text</td>\n",
    "    <td>---</td>\n",
    "    <td>Texto que se muestra en el label</td>\n",
    "  </tr>\n",
    "  <tr>\n",
    "    <td>Bg</td>\n",
    "    <td>\"string\"</td>\n",
    "    <td>Color de fondo</td>\n",
    "  </tr>\n",
    "  <tr>\n",
    "    <td>Bitmap</td>\n",
    "    <td>Mapa de bits</td>\n",
    "    <td>Muestra el label como gráfico</td>\n",
    "  </tr>\n",
    "  <tr>\n",
    "    <td>Bd</td>\n",
    "    <td>Integer</td>\n",
    "    <td>Grosor del borde</td>\n",
    "  </tr>\n",
    "  <tr>\n",
    "    <td>Font</td>\n",
    "    <td>\"String\"</td>\n",
    "    <td>Tipo de fuente</td>\n",
    "  </tr>\n",
    "  <tr>\n",
    "    <td>Fg</td>\n",
    "    <td>\"String\"</td>\n",
    "    <td>Color de fuente</td>\n",
    "  </tr>\n",
    "  <tr>\n",
    "    <td>Width</td>\n",
    "    <td>Integer</td>\n",
    "    <td>Ancho de label (en caracteres)</td>\n",
    "  </tr>\n",
    "  <tr>\n",
    "    <td>Height</td>\n",
    "    <td>Integer</td>\n",
    "    <td>Alto de label (en caracteres)</td>\n",
    "  </tr>\n",
    "  <tr>\n",
    "    <td>Image</td>\n",
    "    <td>dirección</td>\n",
    "    <td>Muestra una imagen en lugar de texto en el label</td>\n",
    "  </tr>\n",
    "  <tr>\n",
    "    <td>justify</td>\n",
    "    <td>Booleano</td>\n",
    "    <td>Justificación del parrafo</td>\n",
    "  </tr>\n",
    "</table>"
   ]
  },
  {
   "cell_type": "code",
   "execution_count": 15,
   "metadata": {},
   "outputs": [],
   "source": [
    "from tkinter import *\n",
    "\n",
    "ventana=Tk()\n",
    "ventana.title(\"Segunda ventana\")\n",
    "ventana.geometry(\"380x300\")\n",
    "ventana.configure(bg=\"DeepSkyblue4\")\n",
    "\n",
    "etiqueta=Label(ventana, text=\"Esta es otra etiqueta\", bg=\"yellow\")\n",
    "etiqueta.pack()\n",
    "ventana.mainloop()"
   ]
  },
  {
   "cell_type": "code",
   "execution_count": 15,
   "metadata": {},
   "outputs": [],
   "source": [
    "from tkinter import *\n",
    "\n",
    "ventana=Tk()\n",
    "ventana.title(\"Segunda ventana\")\n",
    "ventana.geometry(\"380x300\")\n",
    "ventana.configure(bg=\"DeepSkyblue4\")\n",
    "\n",
    "Label(ventana, text=\"Bienvenidos\",font=(\"Comic Sans MS\", 24), \n",
    "      bg=\"cyan\").place(x=20,y=0)\n",
    "\n",
    "Label(ventana, text=\"a la creacion de etiquetas\",font=(\"Times\",24, \"bold italic\"), \n",
    "      bg=\"blue4\", fg=\"white\").place(x=10,y=60)\n",
    "\n",
    "Label(ventana, text=\"en nuestra nueva\",font=(\"Helvetica\", 36,\"bold\"), \n",
    "      bg=\"dodgerblue\").place(x=50,y=120)\n",
    "\n",
    "Label(ventana, text=\"ventana\",font=(\"Comic Sans MS\", 24), \n",
    "      bg=\"SlateBlue4\", fg=\"lightcyan\").place(x=120,y=180)\n",
    "\n",
    "ventana.mainloop()"
   ]
  },
  {
   "cell_type": "markdown",
   "metadata": {},
   "source": [
    "###  Frame"
   ]
  },
  {
   "cell_type": "markdown",
   "metadata": {},
   "source": [
    "Uno de las herramientas más importantes de tkinter es un marco (FRAME) para el proceso de agrupar y organizar otros widgets de una manera amigable. Funciona como un contenedor, que se encarga de organizar la posición de otros widgets."
   ]
  },
  {
   "cell_type": "code",
   "execution_count": 17,
   "metadata": {},
   "outputs": [],
   "source": [
    "# Agregamos un marco a la ventana\n",
    "raiz=Tk()\n",
    "raiz.title(\"Ventana con marco\")\n",
    "raiz.config(bg=\"blue\")\n",
    "#raiz.geometry('500x400')\n",
    "\n",
    "miFrame=Frame()\n",
    "miFrame.pack()\n",
    "# Se modifica el color del frame para hecerlo visible en la ventana\n",
    "miFrame.config(bg=\"red\")\n",
    "# Es necesario agregar tamaño al frame para que sea visible\n",
    "# La raíz se adapta al tamaño del frame\n",
    "miFrame.config(width=400, height=300)\n",
    "\n",
    "raiz.mainloop()"
   ]
  },
  {
   "cell_type": "code",
   "execution_count": 25,
   "metadata": {},
   "outputs": [],
   "source": [
    "# Modificar adonde aparece\n",
    "raiz=Tk()\n",
    "raiz.title(\"Ventana con marco\")\n",
    "raiz.config(bg=\"blue\")\n",
    "raiz.geometry('500x400')\n",
    "\n",
    "miFrame=Frame()\n",
    "#miFrame.pack(side=LEFT) #LEFT/RIGHT/BOTTOM/TOP\n",
    "\n",
    "miFrame.pack(side=\"right\", anchor=\"n\")  #anchor de acuerdo a puntos cardinales \n",
    "\n",
    "\n",
    "miFrame.config(bg=\"red\")\n",
    "miFrame.config(width=400, height=300)\n",
    "\n",
    "# Se modifica también el borde\n",
    "miFrame.config(bd=10)  #tamaño del borde\n",
    "miFrame.config(relief=SUNKEN)  #tipo del borde  FLAT/RAISED/SUNKEN/GROOVE/RIDGE\n",
    "\n",
    "raiz.mainloop()"
   ]
  },
  {
   "cell_type": "markdown",
   "metadata": {},
   "source": [
    "### PhotoImage"
   ]
  },
  {
   "cell_type": "code",
   "execution_count": 90,
   "metadata": {},
   "outputs": [],
   "source": [
    "from tkinter import *    # Carga módulo tk (widgets estándar)\n",
    "from tkinter import ttk  # Carga ttk (para widgets nuevos 8.5+)\n",
    "\n",
    "# Define la ventana principal de la aplicación\n",
    "\n",
    "raiz = Tk()\n",
    "\n",
    "raiz.geometry('300x200') # anchura x altura\n",
    "\n",
    "raiz.configure(bg = 'beige')\n",
    "raiz.title('Aplicación')\n",
    "raiz.iconbitmap(\"Super-Mario.ico\")\n",
    "\n",
    "ttk.Button(raiz, text='Salir', command=raiz.destroy).pack(side=BOTTOM)\n",
    "\n",
    "marco = Frame()\n",
    "#marco.config(bg=\"white\")\n",
    "\n",
    "#Añade un elemento para contener el archivo con la imagen\n",
    "foto =PhotoImage(file=\"mario.png\")\n",
    "#se asocia la imagen con la etiqueta de despliegue\n",
    "foto_label =Label(marco, image=foto)\n",
    "nombre = Label(marco, text=\"Mario Bros\", anchor=W)\n",
    "\n",
    "#Ubica los elementos y los despliega\n",
    "foto_label.pack(side=RIGHT)\n",
    "nombre.pack(side=RIGHT)\n",
    "\n",
    "marco.pack(fill=X, expand=1) \n",
    "\n",
    "raiz.mainloop()"
   ]
  },
  {
   "cell_type": "markdown",
   "metadata": {},
   "source": [
    "#### Ejercicio: \n",
    "\n",
    "Crea una ventana que contenga lo siguiente:\n",
    "-  El fondo de un color de tu preferencia\n",
    "-  foto y el nombre de un personaje \n",
    "-  El titulo e icono acorde al tema que elegiste\n",
    "-  Añade un boton que cambie de color el fondo\n",
    "\n",
    "Juega con los diferentes elementos de ubicación,borde "
   ]
  },
  {
   "cell_type": "markdown",
   "metadata": {},
   "source": [
    "### Button   "
   ]
  },
  {
   "cell_type": "markdown",
   "metadata": {},
   "source": [
    "Button es un widget que permite desplegar text e imágenes y se le puede asociar una función o método que se llamará al dar un clic al botón."
   ]
  },
  {
   "cell_type": "code",
   "execution_count": 105,
   "metadata": {},
   "outputs": [],
   "source": [
    "from tkinter import *\n",
    "\n",
    "root = Tk()\n",
    "frame = Frame(root)\n",
    "frame.pack()\n",
    "\n",
    "bottomframe = Frame(root)\n",
    "bottomframe.pack( side = BOTTOM )\n",
    "\n",
    "redbutton = Button(frame, text=\"Red\", fg=\"red\")\n",
    "redbutton.pack( side = LEFT)\n",
    "\n",
    "greenbutton = Button(frame, text=\"green\",fg=\"green\")\n",
    "greenbutton.pack( side = LEFT )\n",
    "\n",
    "bluebutton = Button(frame, text=\"Blue\", fg=\"blue\")\n",
    "bluebutton.pack( side = LEFT )\n",
    "\n",
    "blackbutton = Button(bottomframe, text=\"Black\", fg=\"black\")\n",
    "blackbutton.pack( side = BOTTOM)\n",
    "\n",
    "root.mainloop()"
   ]
  },
  {
   "cell_type": "code",
   "execution_count": 33,
   "metadata": {},
   "outputs": [],
   "source": [
    "def cambia_color():\n",
    "    root.configure(bg = 'cyan')\n",
    "\n",
    "#Para no importar todo\n",
    "from tkinter import Tk, mainloop, TOP \n",
    "from tkinter.ttk import Button \n",
    "\n",
    "root = Tk()  \n",
    "root.geometry('200x150') \n",
    "root.configure(bg = 'beige')\n",
    "\n",
    "button = Button(root, text = 'Cambio', command=cambia_color) \n",
    "button.pack(side = TOP, pady = 50) \n",
    "\n",
    "mainloop() \n"
   ]
  },
  {
   "cell_type": "markdown",
   "metadata": {},
   "source": [
    "### Enter "
   ]
  },
  {
   "cell_type": "markdown",
   "metadata": {},
   "source": [
    "Enter es el widget básico para ingresar una línea de texto tipo cadena."
   ]
  },
  {
   "cell_type": "code",
   "execution_count": 84,
   "metadata": {},
   "outputs": [],
   "source": [
    "from tkinter import *\n",
    "\n",
    "ventana = Tk()\n",
    "ventana.geometry(\"300x100\")\n",
    "L1 = Label(ventana, text=\"Entra una cadena\")\n",
    "L1.pack(side = LEFT)\n",
    "E1 = Entry(ventana, bd =5) #cuadro de texto que permite la entrada\n",
    "E1.pack(side = RIGHT)\n",
    "\n",
    "ventana.mainloop()"
   ]
  },
  {
   "cell_type": "markdown",
   "metadata": {},
   "source": [
    "Para poder utilizar el dato ingresado en el cuadro de texto ENTRY se usa el método **get()** y una manera de detectar cuando el usuario cambia el texto."
   ]
  },
  {
   "cell_type": "code",
   "execution_count": 93,
   "metadata": {},
   "outputs": [],
   "source": [
    "#Lee un número y despliega el doble\n",
    "from tkinter import *\n",
    "\n",
    "def duplica(evento):\n",
    "    num=int(E1.get())\n",
    "    doble=num*2\n",
    "    res.configure(text=str(doble))\n",
    "\n",
    "\n",
    "ventana = Tk()\n",
    "ventana.geometry(\"220x220\")\n",
    "\n",
    "L1 = Label(ventana, text=\"Numero\")\n",
    "L1.pack()\n",
    "E1 = Entry(ventana, bd =5)\n",
    "#asocia el evento de cambio de texto a la llave return y a la función duplica\n",
    "E1.bind(\"<Return>\", duplica)  \n",
    "E1.pack()\n",
    "\n",
    "res = Label(ventana)\n",
    "res.pack()\n",
    "\n",
    "ventana.mainloop()"
   ]
  },
  {
   "cell_type": "code",
   "execution_count": 99,
   "metadata": {},
   "outputs": [],
   "source": [
    "#Evaluar la expresión matemática que se capture\n",
    "import tkinter as tk\n",
    "from math import *\n",
    "\n",
    "def evaluate(event):\n",
    "    res.configure(text = \"Resultado: \" + str(eval(entry.get())))\n",
    "    \n",
    "w = tk.Tk()\n",
    "Label(w, text=\"Da una expresion matemática:\").pack()\n",
    "entry = Entry(w)\n",
    "entry.bind(\"<Return>\", evaluate)\n",
    "entry.pack()\n",
    "res = Label(w)\n",
    "res.pack()\n",
    "w.mainloop()"
   ]
  },
  {
   "cell_type": "markdown",
   "metadata": {},
   "source": [
    "También se puede usar un botón para explícitamente decir cuando quiero ingresar el dato"
   ]
  },
  {
   "cell_type": "code",
   "execution_count": 68,
   "metadata": {},
   "outputs": [],
   "source": [
    "from tkinter import *\n",
    "from tkinter import ttk\n",
    "from tkinter import messagebox\n",
    "\n",
    "def entrada():  \n",
    "    nom=E1.get()\n",
    "    app=E2.get()\n",
    "    L3=Label(ventana,text='Hola '+nom+' '+app).place(x=120, y=120)\n",
    "    messagebox.showinfo('Hola ',nom+' '+app)\n",
    "\n",
    "ventana = Tk()\n",
    "ventana.geometry(\"350x350\")\n",
    "L1= Label(ventana, text=\"Nombre\").place(x=60, y=40)\n",
    "L2= Label(ventana, text=\"Apellido\").place(x=60, y=80)\n",
    "\n",
    "E1 = Entry(ventana, textvariable=nom)\n",
    "E1.place(x=120, y=40)\n",
    "E2 = Entry(ventana, textvariable=app)\n",
    "E2.place(x=120, y=80)\n",
    "\n",
    "boton=Button(ventana, text='Saludo', command=entrada).place(x=200, y=200)\n",
    "\n",
    "ventana.mainloop()"
   ]
  },
  {
   "cell_type": "markdown",
   "metadata": {},
   "source": [
    "## Posicionar elementos en una ventana"
   ]
  },
  {
   "cell_type": "markdown",
   "metadata": {},
   "source": [
    "Tk tiene tres métodos para indicar la posición de los widgets dentro de una ventana:\n",
    "    -  pack().- permite simplemente ubicar un elemento arriba,abajo,izquierda o derecha\n",
    "    -  place().-permite ubicar elementos indicando su posición(X y Y) respecto a un elemento padre.\n",
    "    -  grid().- consiste en dividir la ventana principal en renglones y columnas formando celdas en donde se ubican los elementos."
   ]
  },
  {
   "cell_type": "markdown",
   "metadata": {},
   "source": [
    "### place()"
   ]
  },
  {
   "cell_type": "markdown",
   "metadata": {},
   "source": [
    "#### Usando posiciones absolutas"
   ]
  },
  {
   "cell_type": "code",
   "execution_count": 118,
   "metadata": {},
   "outputs": [],
   "source": [
    "from tkinter import *\n",
    "from tkinter import ttk\n",
    "\n",
    "ventana = Tk()\n",
    "ventana.title(\"Posicionar elementos en Tcl/Tk  con place\")\n",
    "ventana.configure(bg='Blue')\n",
    "ventana.configure(width=300, height=200)\n",
    "        \n",
    "boton = Button(ventana, text=\"Boton verde!\",fg=\"green\")\n",
    "#x y y posición en la ventana     width y height dimensiones de botón\n",
    "boton.place(x=60, y=40, width=100, height=30) \n",
    "\n",
    "ventana.mainloop()"
   ]
  },
  {
   "cell_type": "markdown",
   "metadata": {},
   "source": [
    "####  Centrar el widget en su padre usando posiciones relativas"
   ]
  },
  {
   "cell_type": "code",
   "execution_count": 138,
   "metadata": {},
   "outputs": [],
   "source": [
    "from tkinter import *\n",
    "from tkinter import ttk\n",
    "\n",
    "ventana = Tk()\n",
    "ventana.title(\"Posicionar elementos en Tcl/Tk  con place\")\n",
    "ventana.configure(bg='Blue')\n",
    "ventana.configure(width=300, height=200)\n",
    "        \n",
    "boton = Button(ventana, text=\"Centrado\",fg=\"red\")\n",
    "\n",
    "#boton.place(relx=0.5,rely=0.5, width=100, height=30) #relativo a la ventana completa\n",
    "boton.place(relx=0.5,rely=0.5, anchor=CENTER, width=100, height=30) #relativo al tamaño actual de la ventana\n",
    "\n",
    "#a la izquierda \n",
    "boton2 = Button(ventana, text=\"Izquierda\",fg=\"green\")\n",
    "boton2.place(relx=0,rely=0.5,anchor=W)\n",
    "#a la derecha\n",
    "boton3 = Button(ventana, text=\"Derecha\",fg=\"purple\")\n",
    "boton3.place(relx=1,rely=0.5,anchor=E)\n",
    "\n",
    "ventana.mainloop()"
   ]
  },
  {
   "cell_type": "markdown",
   "metadata": {},
   "source": [
    "¿Cómo lo posicionarías centrado hasta arriba y hasta abajo?"
   ]
  },
  {
   "cell_type": "markdown",
   "metadata": {},
   "source": [
    "### pack()"
   ]
  },
  {
   "cell_type": "code",
   "execution_count": 155,
   "metadata": {},
   "outputs": [],
   "source": [
    "from tkinter import *\n",
    "\n",
    "ventana = Tk()\n",
    "ventana.title(\"Posicionar elementos en Tcl/Tk  con pack\")\n",
    "e=Label(ventana,text=\"Rojo\", bg=\"red\",fg=\"white\",font=(\"Courier New\",15, \"bold\"))\n",
    "e.pack(fill=X) #se extiende a lo ancho\n",
    "\n",
    "e=Label(ventana,text=\"Verde\", bg=\"green\",fg=\"white\",font=(\"Courier New\",15, \"bold\"))\n",
    "e.pack(padx=5, pady=5) #espacio externo en x y y\n",
    "\n",
    "e=Label(ventana,text=\"Azul\", bg=\"blue\",fg=\"white\",font=(\"Courier New\",15, \"bold\"))\n",
    "e.pack(fill=X)\n",
    "\n",
    "e=Label(ventana,text=\"Abajo\", bg=\"black\",fg=\"white\",font=(\"Courier New\",15, \"bold\"))\n",
    "e.pack(side=BOTTOM,ipadx=15, ipady=15)  #TOP /LEFT/ RIGHT\n",
    "\n",
    "ventana.mainloop()"
   ]
  },
  {
   "cell_type": "markdown",
   "metadata": {},
   "source": [
    "### grid()"
   ]
  },
  {
   "cell_type": "code",
   "execution_count": 156,
   "metadata": {},
   "outputs": [],
   "source": [
    "from tkinter import *\n",
    "\n",
    "ventana = Tk()\n",
    "\n",
    "for i in range(0, 5):\n",
    "    for j in range(0, 5):\n",
    "        cell = Entry(ventana, width=10)\n",
    "        cell.grid(padx=5, pady=5, row=i, column=j)\n",
    "        cell.insert(0, (i,j))\n",
    "\n",
    "ventana.mainloop()"
   ]
  },
  {
   "cell_type": "code",
   "execution_count": 157,
   "metadata": {},
   "outputs": [],
   "source": [
    "from tkinter import *\n",
    "\n",
    "ventana=Tk()\n",
    "ventana.title(\"Posicionar elementos en Tcl/Tk\")\n",
    "\n",
    "cuadro = Entry(ventana)\n",
    "cuadro.grid(row=0, column=0)\n",
    "\n",
    "boton = Button(ventana, text=\"Presione aquí\")\n",
    "boton.grid(row=0, column=1)\n",
    "        \n",
    "etiqueta =Label(ventana, text=\"¡Hola, mundo!\")\n",
    "etiqueta.grid(row=1,column=2)\n",
    "\n",
    "ventana.mainloop()"
   ]
  },
  {
   "cell_type": "code",
   "execution_count": 158,
   "metadata": {},
   "outputs": [],
   "source": [
    "from tkinter import *\n",
    "from tkinter import ttk\n",
    "from tkinter import messagebox\n",
    "\n",
    "def entrada():  \n",
    "    nom=E1.get()\n",
    "    app=E2.get()\n",
    "    L3.configure(text='Hola '+nom+' '+app)\n",
    "    L3.grid(row=2)\n",
    "\n",
    "\n",
    "ventana = Tk()\n",
    "L1= Label(ventana, text=\"Nombre\").grid(row=0)\n",
    "L2= Label(ventana, text=\"Apellido\").grid(row=1)\n",
    "\n",
    "E1 = Entry(ventana, textvariable=nom)\n",
    "E1.grid(row=0, column=1)\n",
    "E2 = Entry(ventana, textvariable=app)\n",
    "E2.grid(row=1, column=1)\n",
    "\n",
    "L3=Label(ventana,text=\"\")\n",
    "L3.grid(row=2)\n",
    "\n",
    "boton=Button(ventana, text='Saludo', command=entrada).grid(row=5)\n",
    "\n",
    "ventana.mainloop()"
   ]
  },
  {
   "cell_type": "markdown",
   "metadata": {},
   "source": [
    "##  Juego del gato\n",
    "https://www.youtube.com/watch?v=ZvbB2k398kw"
   ]
  },
  {
   "cell_type": "code",
   "execution_count": 164,
   "metadata": {},
   "outputs": [],
   "source": [
    "from tkinter import *\n",
    "from tkinter import ttk\n",
    "from tkinter import messagebox\n",
    "from tkinter import simpledialog\n",
    "\n",
    "def bloquear():\n",
    "    for b in listaBotones:\n",
    "        b.config(state='disable')\n",
    "\n",
    "def iniciarJ():\n",
    "    for b in listaBotones:\n",
    "        b.config(state='normal')\n",
    "        b.config(bg='lightgrey')\n",
    "        b.config(text='')\n",
    "        \n",
    "    for i in range(9):\n",
    "        t[i]='N'\n",
    "    global nombreJugador1,nombreJugador2\n",
    "    nombreJugador1=simpledialog.askstring(\"Jugador\",\"Escribe el nombre del Jugador 1\" )\n",
    "    nombreJugador2=simpledialog.askstring(\"Jugador\",\"Escribe el nombre del Jugador 2\" )\n",
    "    turnoJugador.set(\"Turno: \"+nombreJugador1)\n",
    "    \n",
    "def cambiar(num):\n",
    "    global turno,nombreJugador1,nombreJugador2\n",
    "    if t[num]=='N' and turno==0:\n",
    "          listaBotones[num].config(text='X')\n",
    "          listaBotones[num].config(bg=\"white\")\n",
    "          t[num]='X'\n",
    "          turno=1\n",
    "          turnoJugador.set(\"Turno: \"+nombreJugador2)\n",
    "    elif t[num]=='N' and turno==1:\n",
    "          listaBotones[num].config(text='O')\n",
    "          listaBotones[num].config(bg=\"lightblue\")\n",
    "          t[num]='O'\n",
    "          turno=0\n",
    "          turnoJugador.set(\"Turno: \"+nombreJugador1)\n",
    "    listaBotones[num].config(state='disable') \n",
    "    verificar()\n",
    "      \n",
    "def verificar():\n",
    "    if (t[0]=='X' and t[1]=='X' and t[2]=='X') or  (t[3]=='X' and t[4]=='X' and t[5]=='X')  or  (t[6]=='X' and t[7]=='X' and t[8]=='X'):\n",
    "        bloquear()\n",
    "        messagebox.showinfo('Ganador','Ganaste!!'+nombreJugador1)\n",
    "    elif (t[0]=='X' and t[3]=='X' and t[6]=='X') or  (t[1]=='X' and t[4]=='X' and t[7]=='X')  or  (t[2]=='X' and t[5]=='X' and t[8]=='X'):\n",
    "        bloquear()\n",
    "        messagebox.showinfo('Ganador','Ganaste!!'+nombreJugador1)\n",
    "    elif (t[0]=='X' and t[4]=='X' and t[8]=='X') or  (t[2]=='X' and t[4]=='X' and t[6]=='X') :\n",
    "        bloquear()\n",
    "        messagebox.showinfo('Ganador','Ganaste!!'+nombreJugador1)\n",
    "        \n",
    "    if (t[0]=='O' and t[1]=='O' and t[2]=='O') or  (t[3]=='O' and t[4]=='O' and t[5]=='O')  or  (t[6]=='O' and t[7]=='O' and t[8]=='O'):\n",
    "        bloquear()\n",
    "        messagebox.showinfo('Ganador','Ganaste!!'+nombreJugador2)\n",
    "    elif (t[0]=='O' and t[3]=='O' and t[6]=='O') or  (t[1]=='O' and t[4]=='O' and t[7]=='O')  or  (t[2]=='O' and t[5]=='O' and t[8]=='O'):\n",
    "        bloquear()\n",
    "        messagebox.showinfo('Ganador','Ganaste!!'+nombreJugador2)\n",
    "    elif t[0]=='O' and t[4]=='O' and t[8]=='O' or  t[2]=='O' and t[4]=='O' and t[6]=='O' :\n",
    "        bloquear()\n",
    "        messagebox.showinfo('Ganador','Ganaste!!'+nombreJugador2)\n",
    "        \n",
    "        \n",
    "\n",
    "ventana =Tk()\n",
    "ventana.geometry(\"400x500\")\n",
    "ventana.title(\"Juego de gato\")\n",
    "turno=0\n",
    "nombreJugador1=\"\"\n",
    "nombreJugador2=\"\"\n",
    "#lista botones y lista t asociada\n",
    "listaBotones=[]\n",
    "t=[] #X O N\n",
    "turnoJugador=StringVar()\n",
    "for i in range(9):\n",
    "    t.append('N')\n",
    "\n",
    "#set up todos los botones\n",
    "boton0=Button(ventana, width=9, height=3, command=lambda: cambiar(0))\n",
    "listaBotones.append(boton0)    \n",
    "boton0.place(x=50,y=50)\n",
    "\n",
    "boton1=Button(ventana, width=9, height=3, command=lambda:cambiar(1))\n",
    "listaBotones.append(boton1)    \n",
    "boton1.place(x=150,y=50)\n",
    "\n",
    "boton2=Button(ventana, width=9, height=3, command=lambda:cambiar(2))\n",
    "listaBotones.append(boton2)    \n",
    "boton2.place(x=250,y=50)\n",
    "\n",
    "boton3=Button(ventana, width=9, height=3, command=lambda:cambiar(3))\n",
    "listaBotones.append(boton3)    \n",
    "boton3.place(x=50,y=150)\n",
    "\n",
    "boton4=Button(ventana, width=9, height=3, command=lambda:cambiar(4))\n",
    "listaBotones.append(boton4)    \n",
    "boton4.place(x=150,y=150)\n",
    "\n",
    "boton5=Button(ventana, width=9, height=3, command=lambda:cambiar(5))\n",
    "listaBotones.append(boton5)    \n",
    "boton5.place(x=250,y=150)\n",
    "\n",
    "boton6=Button(ventana, width=9, height=3, command=lambda:cambiar(6))\n",
    "listaBotones.append(boton6)    \n",
    "boton6.place(x=50,y=250)\n",
    "\n",
    "boton7=Button(ventana, width=9, height=3, command=lambda:cambiar(7))\n",
    "listaBotones.append(boton7)    \n",
    "boton7.place(x=150,y=250)\n",
    "\n",
    "boton8=Button(ventana, width=9, height=3, command=lambda:cambiar(8))\n",
    "listaBotones.append(boton8)    \n",
    "boton8.place(x=250,y=250)\n",
    "\n",
    "turnoE=Label(ventana,textvariable=turnoJugador).place(x=120,y=20)\n",
    "iniciar=Button(ventana, bg=\"blue\", fg=\"white\", text='Iniciar juego', width=15, height=3, command=iniciarJ).place(x=130,y=350)\n",
    "\n",
    "bloquear()\n",
    "\n",
    "ventana.mainloop()"
   ]
  },
  {
   "cell_type": "code",
   "execution_count": null,
   "metadata": {},
   "outputs": [],
   "source": []
  }
 ],
 "metadata": {
  "kernelspec": {
   "display_name": "Python 3",
   "language": "python",
   "name": "python3"
  },
  "language_info": {
   "codemirror_mode": {
    "name": "ipython",
    "version": 3
   },
   "file_extension": ".py",
   "mimetype": "text/x-python",
   "name": "python",
   "nbconvert_exporter": "python",
   "pygments_lexer": "ipython3",
   "version": "3.7.3"
  }
 },
 "nbformat": 4,
 "nbformat_minor": 2
}
