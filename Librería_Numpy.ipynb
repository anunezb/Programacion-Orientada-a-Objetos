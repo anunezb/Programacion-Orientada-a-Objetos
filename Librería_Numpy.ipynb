{
 "cells": [
  {
   "cell_type": "markdown",
   "metadata": {},
   "source": [
    "# Librerías de Python"
   ]
  },
  {
   "cell_type": "markdown",
   "metadata": {},
   "source": [
    "La librerías y paquetes de Python son un conjunto de módulos y funciones. Actualmente hay cientos de miles de librerías y paquetes de Python listos para ser utilizados por los desarrolladores para implementar soluciones modernas a diferentes problemas."
   ]
  },
  {
   "cell_type": "markdown",
   "metadata": {},
   "source": [
    "Algunas definiciones:\n",
    "-   **Módulo** : Código de Python contenido en un archivo.\n",
    "-   **Paquete**: Código de Python contenido en un directorio de archivos. Dicho directorio debe contener al menos un archivo **init.py**\n",
    "-   **Librería**: Colección de módulos y paquetes de Python"
   ]
  },
  {
   "cell_type": "markdown",
   "metadata": {},
   "source": [
    "# Introducción a la librería  NumPy"
   ]
  },
  {
   "cell_type": "markdown",
   "metadata": {},
   "source": [
    "NumPy es una librería fundamental para la computación científica en Python. Contiene:\n",
    "-  Clases para trabajar con vectores y matrices multidimensionales\n",
    "-  Colección de rutinas matemáticas de alto nivel para manejar vectores y matrices\n",
    "-  Herramientas de integración con código de C/C++ y Fortran\n",
    "-  Utilidades para algebra lineal , Transformada de Fourier y números aleatorios, funciones estadísticas y trigonométricas entre otros"
   ]
  },
  {
   "cell_type": "markdown",
   "metadata": {},
   "source": [
    "La documentación oficial de la librería se puede encontrar en: **numpy.org**\n",
    "\n",
    "Un buen tutorial https://www.tutorialspoint.com/numpy/index.htm"
   ]
  },
  {
   "cell_type": "markdown",
   "metadata": {},
   "source": [
    "## Aplicaciones\n",
    "-  Operaciones relacionadas con álgebra lineal\n",
    "-  Ciencia de datos y aprendizaje máquina (tensores)\n",
    "-  Procesamiento de imágenes.\n",
    "-  Se dice que puede ser reemplazo de Matlab"
   ]
  },
  {
   "cell_type": "markdown",
   "metadata": {},
   "source": [
    "##  Arreglos con NumPy"
   ]
  },
  {
   "cell_type": "markdown",
   "metadata": {},
   "source": [
    "El manejo de arreglos con NumPy es mucho más rápido que el uso de listas porque:\n",
    "-  Usa menos bytes en memoria.\n",
    "-  Usa memoria contigua.\n",
    "-  Tiene muchas más funciones \n",
    "\n",
    "Diferencia: Lista es redimensionable y puede ser heterogenea"
   ]
  },
  {
   "cell_type": "code",
   "execution_count": 1,
   "metadata": {},
   "outputs": [],
   "source": [
    "#importar la librería\n",
    "import numpy as np"
   ]
  },
  {
   "cell_type": "markdown",
   "metadata": {},
   "source": [
    "###  Creación de arreglos homogeneos (del mismo tipo)\n",
    "\n",
    "Numpy soporta diferentes tipos https://docs.scipy.org/doc/numpy/user/basics.types.html"
   ]
  },
  {
   "cell_type": "code",
   "execution_count": 28,
   "metadata": {},
   "outputs": [
    {
     "name": "stdout",
     "output_type": "stream",
     "text": [
      "vector  [10 20 30 40]\n",
      "matriz  [[1. 3. 5.]\n",
      " [2. 4. 5.]]\n"
     ]
    }
   ],
   "source": [
    "#vector\n",
    "v=np.array([10,20,30,40])\n",
    "#Matriz\n",
    "m=np.array([[1.0,3.0,5.0], [2.0,4.0,5.0]])\n",
    "print(\"vector \",v)\n",
    "print(\"matriz \",m)"
   ]
  },
  {
   "cell_type": "code",
   "execution_count": 143,
   "metadata": {},
   "outputs": [
    {
     "name": "stdout",
     "output_type": "stream",
     "text": [
      "tamaño v1: 4\n",
      "tamaño v: 16\n"
     ]
    }
   ],
   "source": [
    "v1=np.array([10,20,30,40], dtype=np.int8)\n",
    "print('tamaño v1:',v1.nbytes)\n",
    "print('tamaño v:',v.nbytes)"
   ]
  },
  {
   "cell_type": "code",
   "execution_count": 18,
   "metadata": {},
   "outputs": [],
   "source": [
    "#convierte todos al mismo tipo\n",
    "c=np.array([10,'a',30,40])"
   ]
  },
  {
   "cell_type": "code",
   "execution_count": 20,
   "metadata": {},
   "outputs": [
    {
     "name": "stdout",
     "output_type": "stream",
     "text": [
      "['10' 'a' '30' '40']\n"
     ]
    }
   ],
   "source": [
    "print(c)"
   ]
  },
  {
   "cell_type": "markdown",
   "metadata": {},
   "source": [
    "#### Ejercicio 1.\n",
    "Crea e imprime un arreglo de tres dimensiones"
   ]
  },
  {
   "cell_type": "code",
   "execution_count": null,
   "metadata": {},
   "outputs": [],
   "source": [
    "#crea e imprime un arreglo de tres dimensiones\n"
   ]
  },
  {
   "cell_type": "code",
   "execution_count": 44,
   "metadata": {},
   "outputs": [
    {
     "data": {
      "text/plain": [
       "array([[0., 0., 0., 0., 0.],\n",
       "       [0., 0., 0., 0., 0.],\n",
       "       [0., 0., 0., 0., 0.],\n",
       "       [0., 0., 0., 0., 0.]])"
      ]
     },
     "execution_count": 44,
     "metadata": {},
     "output_type": "execute_result"
    }
   ],
   "source": [
    "#inicializar con zeros\n",
    "ceros=np.zeros((4,5))\n",
    "ceros"
   ]
  },
  {
   "cell_type": "code",
   "execution_count": 45,
   "metadata": {},
   "outputs": [
    {
     "data": {
      "text/plain": [
       "array([[[1., 1., 1.],\n",
       "        [1., 1., 1.],\n",
       "        [1., 1., 1.],\n",
       "        [1., 1., 1.],\n",
       "        [1., 1., 1.]],\n",
       "\n",
       "       [[1., 1., 1.],\n",
       "        [1., 1., 1.],\n",
       "        [1., 1., 1.],\n",
       "        [1., 1., 1.],\n",
       "        [1., 1., 1.]],\n",
       "\n",
       "       [[1., 1., 1.],\n",
       "        [1., 1., 1.],\n",
       "        [1., 1., 1.],\n",
       "        [1., 1., 1.],\n",
       "        [1., 1., 1.]],\n",
       "\n",
       "       [[1., 1., 1.],\n",
       "        [1., 1., 1.],\n",
       "        [1., 1., 1.],\n",
       "        [1., 1., 1.],\n",
       "        [1., 1., 1.]]])"
      ]
     },
     "execution_count": 45,
     "metadata": {},
     "output_type": "execute_result"
    }
   ],
   "source": [
    "#inicializar con unos \n",
    "unos=np.ones((4,5,3))\n",
    "unos"
   ]
  },
  {
   "cell_type": "code",
   "execution_count": 47,
   "metadata": {},
   "outputs": [
    {
     "data": {
      "text/plain": [
       "array([[100, 100, 100],\n",
       "       [100, 100, 100],\n",
       "       [100, 100, 100]])"
      ]
     },
     "execution_count": 47,
     "metadata": {},
     "output_type": "execute_result"
    }
   ],
   "source": [
    "#inicializar con otro numero\n",
    "otro=np.full((3,3),100)\n",
    "otro"
   ]
  },
  {
   "cell_type": "code",
   "execution_count": 48,
   "metadata": {},
   "outputs": [
    {
     "data": {
      "text/plain": [
       "array([[1., 0., 0., 0., 0.],\n",
       "       [0., 1., 0., 0., 0.],\n",
       "       [0., 0., 1., 0., 0.],\n",
       "       [0., 0., 0., 1., 0.],\n",
       "       [0., 0., 0., 0., 1.]])"
      ]
     },
     "execution_count": 48,
     "metadata": {},
     "output_type": "execute_result"
    }
   ],
   "source": [
    "#inicializar con matriz identidad\n",
    "identidad=np.identity(5)\n",
    "identidad"
   ]
  },
  {
   "cell_type": "code",
   "execution_count": 49,
   "metadata": {},
   "outputs": [
    {
     "data": {
      "text/plain": [
       "array([[0.85603807, 0.84744871, 0.25517611],\n",
       "       [0.44011561, 0.29566426, 0.44980941],\n",
       "       [0.19029548, 0.7562043 , 0.66046991],\n",
       "       [0.47075526, 0.73161349, 0.18335562]])"
      ]
     },
     "execution_count": 49,
     "metadata": {},
     "output_type": "execute_result"
    }
   ],
   "source": [
    "#inicializar con aleatorios reales\n",
    "aleatReal=np.random.rand(4,3)\n",
    "aleatReal"
   ]
  },
  {
   "cell_type": "code",
   "execution_count": 51,
   "metadata": {},
   "outputs": [
    {
     "data": {
      "text/plain": [
       "array([[3, 9, 8],\n",
       "       [6, 1, 8],\n",
       "       [9, 3, 6],\n",
       "       [9, 6, 1]])"
      ]
     },
     "execution_count": 51,
     "metadata": {},
     "output_type": "execute_result"
    }
   ],
   "source": [
    "#inicializar con aleatorios enteros\n",
    "aleatEntero=np.random.randint(1,10, size=(4,3))\n",
    "aleatEntero"
   ]
  },
  {
   "cell_type": "code",
   "execution_count": 88,
   "metadata": {},
   "outputs": [
    {
     "data": {
      "text/plain": [
       "array([[ 2,  4],\n",
       "       [ 6,  8],\n",
       "       [10, 12],\n",
       "       [14, 16]])"
      ]
     },
     "execution_count": 88,
     "metadata": {},
     "output_type": "execute_result"
    }
   ],
   "source": [
    "#inicializar a partir de una lista\n",
    "lista=[2,4,6,8,10,12,14,16]\n",
    "#l1=np.array([lista])\n",
    "l=np.array([lista]).reshape(4,2)\n",
    "l"
   ]
  },
  {
   "cell_type": "code",
   "execution_count": 164,
   "metadata": {},
   "outputs": [
    {
     "data": {
      "text/plain": [
       "array([[  2,  12,  22,  32,  42],\n",
       "       [ 52,  62,  72,  82,  92],\n",
       "       [102, 112, 122, 132, 142],\n",
       "       [152, 162, 172, 182, 192]])"
      ]
     },
     "execution_count": 164,
     "metadata": {},
     "output_type": "execute_result"
    }
   ],
   "source": [
    "#inicializa a partir de un rango y determina las dimensiones\n",
    "x=np.arange(2,200,10).reshape(4,5)\n",
    "x"
   ]
  },
  {
   "cell_type": "code",
   "execution_count": null,
   "metadata": {},
   "outputs": [],
   "source": [
    "#leer datos y crear una matriz  \n",
    "#asarray convierte secuencias en ndarray\n",
    "lista=[]\n",
    "for i in range(3):\n",
    "    for j in range(4):\n",
    "        aij=int(input('elemento:' ))\n",
    "        lista.append(aij)\n",
    "matriz=np.asarray(lista).reshape(3,4)\n",
    "matriz"
   ]
  },
  {
   "cell_type": "markdown",
   "metadata": {},
   "source": [
    "#### Slicing"
   ]
  },
  {
   "cell_type": "code",
   "execution_count": 165,
   "metadata": {},
   "outputs": [
    {
     "data": {
      "text/plain": [
       "array([[ 72,  82,  92],\n",
       "       [122, 132, 142]])"
      ]
     },
     "execution_count": 165,
     "metadata": {},
     "output_type": "execute_result"
    }
   ],
   "source": [
    "x[1:3,2:]  #semejante a listas"
   ]
  },
  {
   "cell_type": "markdown",
   "metadata": {},
   "source": [
    "### **Ejercicios:**\n",
    "    2. Crea una matriz de 5x5 asi:\n",
    "       1  1  1  1  1\n",
    "       1  0  0  0  1\n",
    "       1  0  5  0  1\n",
    "       1  0  0  0  1\n",
    "       1  1  1  1  1\n",
    "       \n",
    "    3. Crea una matriz con los multiplos de 5 de 5 a 40 asi:\n",
    "       5  10  15  20\n",
    "       25 30  35  40"
   ]
  },
  {
   "cell_type": "code",
   "execution_count": null,
   "metadata": {},
   "outputs": [],
   "source": []
  },
  {
   "cell_type": "markdown",
   "metadata": {},
   "source": [
    "###  Atributos básicos\n",
    "-  **ndim**.-  Número de dimensiones o ejes del arreglo\n",
    "-  **shape**.- Dimensiones del arreglo\n",
    "-  **size**.-  Total de elementos de un arreglo\n",
    "-  **dtype**.- Tipo de los elementos del arreglo"
   ]
  },
  {
   "cell_type": "code",
   "execution_count": 12,
   "metadata": {},
   "outputs": [
    {
     "name": "stdout",
     "output_type": "stream",
     "text": [
      "Numero de dimensiones de v  1\n",
      "Numero de dimensiones de m  2\n"
     ]
    }
   ],
   "source": [
    "#ndim\n",
    "print(\"Numero de dimensiones de v \", v.ndim)\n",
    "print(\"Numero de dimensiones de m \", m.ndim)"
   ]
  },
  {
   "cell_type": "code",
   "execution_count": 13,
   "metadata": {},
   "outputs": [
    {
     "name": "stdout",
     "output_type": "stream",
     "text": [
      "Dimensiones de v  (4,)\n",
      "Dimensiones de m  (2, 3)\n"
     ]
    }
   ],
   "source": [
    "#shape\n",
    "print(\"Dimensiones de v \", v.shape)\n",
    "print(\"Dimensiones de m \", m.shape)"
   ]
  },
  {
   "cell_type": "code",
   "execution_count": 14,
   "metadata": {},
   "outputs": [
    {
     "name": "stdout",
     "output_type": "stream",
     "text": [
      "Total de elementos de v  4\n",
      "Total de elementos de m  6\n"
     ]
    }
   ],
   "source": [
    "#size\n",
    "print(\"Total de elementos de v \", v.size)\n",
    "print(\"Total de elementos de m \", m.size)"
   ]
  },
  {
   "cell_type": "code",
   "execution_count": 29,
   "metadata": {},
   "outputs": [
    {
     "name": "stdout",
     "output_type": "stream",
     "text": [
      "float64\n",
      "int32\n"
     ]
    }
   ],
   "source": [
    "#Tipo\n",
    "print(m.dtype)\n",
    "print(v.dtype)"
   ]
  },
  {
   "cell_type": "code",
   "execution_count": 26,
   "metadata": {},
   "outputs": [
    {
     "name": "stdout",
     "output_type": "stream",
     "text": [
      "<U1\n"
     ]
    }
   ],
   "source": [
    "#en general se usa menos frecuentemente array con cadenas\n",
    "x=np.array(['a','b','c'],dtype=str)\n",
    "print(x.dtype)"
   ]
  },
  {
   "cell_type": "code",
   "execution_count": null,
   "metadata": {},
   "outputs": [],
   "source": [
    "#NumPy tiene muchos elementos útiles\n",
    "dir(np)"
   ]
  },
  {
   "cell_type": "markdown",
   "metadata": {},
   "source": [
    "## Operaciones con arreglos"
   ]
  },
  {
   "cell_type": "markdown",
   "metadata": {},
   "source": [
    "### Acceder a elementos"
   ]
  },
  {
   "cell_type": "code",
   "execution_count": 58,
   "metadata": {},
   "outputs": [
    {
     "data": {
      "text/plain": [
       "9"
      ]
     },
     "execution_count": 58,
     "metadata": {},
     "output_type": "execute_result"
    }
   ],
   "source": [
    "a=np.array([[1,2,3,4,5],[6,7,8,9,10]])\n",
    "#aceder a un elemento\n",
    "a[1,3]"
   ]
  },
  {
   "cell_type": "code",
   "execution_count": 33,
   "metadata": {},
   "outputs": [
    {
     "data": {
      "text/plain": [
       "array([[ 6,  7,  8,  9, 10]])"
      ]
     },
     "execution_count": 33,
     "metadata": {},
     "output_type": "execute_result"
    }
   ],
   "source": [
    "#acceder a un renglón\n",
    "a[1:]  # como slice"
   ]
  },
  {
   "cell_type": "code",
   "execution_count": 35,
   "metadata": {},
   "outputs": [
    {
     "data": {
      "text/plain": [
       "array([4, 9])"
      ]
     },
     "execution_count": 35,
     "metadata": {},
     "output_type": "execute_result"
    }
   ],
   "source": [
    "#acceder a una columna\n",
    "a[:,3]"
   ]
  },
  {
   "cell_type": "code",
   "execution_count": 37,
   "metadata": {},
   "outputs": [
    {
     "data": {
      "text/plain": [
       "array([7, 9])"
      ]
     },
     "execution_count": 37,
     "metadata": {},
     "output_type": "execute_result"
    }
   ],
   "source": [
    "#slice similar al for   [start:end:step]\n",
    "a[1,1:4:2]  #el renglon 1 empieza en el elemento 1 hasta el 4 e incrementa de dos en dos"
   ]
  },
  {
   "cell_type": "code",
   "execution_count": 39,
   "metadata": {},
   "outputs": [
    {
     "name": "stdout",
     "output_type": "stream",
     "text": [
      "[[   1    2    3    4    5]\n",
      " [   6 1000    8    9   10]]\n"
     ]
    }
   ],
   "source": [
    "#cambiar valores\n",
    "#un valor\n",
    "a[1,1]=1000\n",
    "print(a)"
   ]
  },
  {
   "cell_type": "code",
   "execution_count": 42,
   "metadata": {},
   "outputs": [
    {
     "name": "stdout",
     "output_type": "stream",
     "text": [
      "[[50 50 50 50 50]\n",
      " [ 6  7  8  9 10]]\n"
     ]
    }
   ],
   "source": [
    "#cambiar un renglón\n",
    "a[0,]=50\n",
    "print(a)"
   ]
  },
  {
   "cell_type": "code",
   "execution_count": 43,
   "metadata": {},
   "outputs": [
    {
     "name": "stdout",
     "output_type": "stream",
     "text": [
      "[[  50   50   50 2000   50]\n",
      " [   6    7    8 2000   10]]\n"
     ]
    }
   ],
   "source": [
    "#cambiar una columna\n",
    "a[:,3]=2000\n",
    "print(a)"
   ]
  },
  {
   "cell_type": "markdown",
   "metadata": {},
   "source": [
    "### Copiar arreglos"
   ]
  },
  {
   "cell_type": "code",
   "execution_count": 91,
   "metadata": {},
   "outputs": [
    {
     "name": "stdout",
     "output_type": "stream",
     "text": [
      "[[8 4 5]\n",
      " [7 2 3]\n",
      " [4 4 1]]\n",
      "[[0 1 7]\n",
      " [7 4 4]\n",
      " [7 7 8]]\n"
     ]
    }
   ],
   "source": [
    "r1=np.random.randint(9, size=(3,3))\n",
    "r2=np.random.randint(9, size=(3,3))\n",
    "print(r1)\n",
    "print(r2)"
   ]
  },
  {
   "cell_type": "code",
   "execution_count": 92,
   "metadata": {},
   "outputs": [
    {
     "name": "stdout",
     "output_type": "stream",
     "text": [
      "[[   8    4    5]\n",
      " [   7 1000    3]\n",
      " [   4    4    1]]\n",
      "[[   8    4    5]\n",
      " [   7 1000    3]\n",
      " [   4    4    1]]\n"
     ]
    }
   ],
   "source": [
    "#si asigno un arreglo a otro solo apuntan los dos al mismo arreglo\n",
    "otro=r1\n",
    "otro[1,1]=1000\n",
    "print(otro)\n",
    "print(r1)"
   ]
  },
  {
   "cell_type": "code",
   "execution_count": 93,
   "metadata": {},
   "outputs": [
    {
     "name": "stdout",
     "output_type": "stream",
     "text": [
      "[[0 1 7]\n",
      " [7 4 4]\n",
      " [7 7 8]]\n",
      "[[0 1 7]\n",
      " [7 4 4]\n",
      " [7 7 8]]\n"
     ]
    }
   ],
   "source": [
    "#con copy realmente se hace una copia del arreglo\n",
    "otro=np.copy(r2)\n",
    "print(otro)\n",
    "print(r2)"
   ]
  },
  {
   "cell_type": "code",
   "execution_count": 94,
   "metadata": {},
   "outputs": [
    {
     "name": "stdout",
     "output_type": "stream",
     "text": [
      "[[   0    1    7]\n",
      " [   7 1000    4]\n",
      " [   7    7    8]]\n",
      "[[0 1 7]\n",
      " [7 4 4]\n",
      " [7 7 8]]\n"
     ]
    }
   ],
   "source": [
    "otro[1,1]=1000\n",
    "print(otro)\n",
    "print(r2)"
   ]
  },
  {
   "cell_type": "markdown",
   "metadata": {},
   "source": [
    "#### Concatenar arreglos"
   ]
  },
  {
   "cell_type": "code",
   "execution_count": 120,
   "metadata": {},
   "outputs": [
    {
     "name": "stdout",
     "output_type": "stream",
     "text": [
      "[[ 1  2  3  4  5]\n",
      " [ 6  7  8  9 10]\n",
      " [ 1  2  3  4  5]\n",
      " [ 6  7  8  9 10]]\n"
     ]
    }
   ],
   "source": [
    "a=np.array([[1,2,3,4,5],[6,7,8,9,10]])\n",
    "b=np.array([[1,2,3,4,5],[6,7,8,9,10]])\n",
    "#print(a)\n",
    "#print(b)\n",
    "#de manera vertical \n",
    "print(np.vstack((a,b)))"
   ]
  },
  {
   "cell_type": "code",
   "execution_count": 118,
   "metadata": {},
   "outputs": [
    {
     "name": "stdout",
     "output_type": "stream",
     "text": [
      "[[ 1  2  3  4  5  1  2  3  4  5]\n",
      " [ 6  7  8  9 10  6  7  8  9 10]]\n"
     ]
    }
   ],
   "source": [
    "#de manera horizontal \n",
    "print(np.hstack((a,b)))"
   ]
  },
  {
   "cell_type": "markdown",
   "metadata": {},
   "source": [
    "### Operaciones sencillas por elemento"
   ]
  },
  {
   "cell_type": "code",
   "execution_count": 95,
   "metadata": {},
   "outputs": [
    {
     "data": {
      "text/plain": [
       "array([[ 3,  4,  5,  6,  7],\n",
       "       [ 8,  9, 10, 11, 12]])"
      ]
     },
     "execution_count": 95,
     "metadata": {},
     "output_type": "execute_result"
    }
   ],
   "source": [
    "a=np.array([[1,2,3,4,5],[6,7,8,9,10]])\n",
    "a=a+2"
   ]
  },
  {
   "cell_type": "markdown",
   "metadata": {},
   "source": [
    "*Probar la resta, multiplicación y division*"
   ]
  },
  {
   "cell_type": "code",
   "execution_count": null,
   "metadata": {},
   "outputs": [],
   "source": []
  },
  {
   "cell_type": "code",
   "execution_count": 66,
   "metadata": {},
   "outputs": [],
   "source": [
    "#suma de matrices\n",
    "a=np.array([[1,2],[3,4]])\n",
    "b=np.array([[1,3],[4,5]])"
   ]
  },
  {
   "cell_type": "code",
   "execution_count": 71,
   "metadata": {},
   "outputs": [
    {
     "data": {
      "text/plain": [
       "array([[2, 5],\n",
       "       [7, 9]])"
      ]
     },
     "execution_count": 71,
     "metadata": {},
     "output_type": "execute_result"
    }
   ],
   "source": [
    "a+b"
   ]
  },
  {
   "cell_type": "code",
   "execution_count": 169,
   "metadata": {},
   "outputs": [
    {
     "name": "stdout",
     "output_type": "stream",
     "text": [
      "uno  [[0 1 2]\n",
      " [3 4 5]\n",
      " [6 7 8]]\n",
      "dieces [10 10 10]\n",
      "[[10 11 12]\n",
      " [13 14 15]\n",
      " [16 17 18]]\n"
     ]
    }
   ],
   "source": [
    "#también existe add, substract, multiply, divide\n",
    "uno=np.arange(9).reshape(3,3)\n",
    "dieces=np.array([10,10,10])\n",
    "print('uno ',uno)\n",
    "print('dieces',dieces)\n",
    "print(np.add(uno,dieces))"
   ]
  },
  {
   "cell_type": "markdown",
   "metadata": {},
   "source": [
    "Sumar columnas,  renglones o todos los elementos de una matriz"
   ]
  },
  {
   "cell_type": "code",
   "execution_count": 106,
   "metadata": {},
   "outputs": [
    {
     "data": {
      "text/plain": [
       "55"
      ]
     },
     "execution_count": 106,
     "metadata": {},
     "output_type": "execute_result"
    }
   ],
   "source": [
    "#Sumar todos los elementos\n",
    "a=np.array([[1,2,3,4,5],[6,7,8,9,10]])\n",
    "suma=np.sum(a)\n",
    "suma"
   ]
  },
  {
   "cell_type": "code",
   "execution_count": 110,
   "metadata": {},
   "outputs": [
    {
     "data": {
      "text/plain": [
       "array([15, 40])"
      ]
     },
     "execution_count": 110,
     "metadata": {},
     "output_type": "execute_result"
    }
   ],
   "source": [
    "#axis=0 se refiere a las columnas y axis=1 se refiere a los renglones\n",
    "#Sumar renglones  \n",
    "sumaren=np.sum(a, axis=1)\n",
    "sumaren"
   ]
  },
  {
   "cell_type": "markdown",
   "metadata": {},
   "source": [
    "**Ejercicios**\n",
    "  4.  Calcula la suma de columnas\n",
    "  5.  ¿Cómo imprimo solo la suma de una columna en particular?"
   ]
  },
  {
   "cell_type": "markdown",
   "metadata": {},
   "source": []
  },
  {
   "cell_type": "markdown",
   "metadata": {},
   "source": [
    "###  Algebra lineal - Multiplicación de matrices"
   ]
  },
  {
   "cell_type": "code",
   "execution_count": 72,
   "metadata": {},
   "outputs": [
    {
     "data": {
      "text/plain": [
       "array([[ 9, 13],\n",
       "       [19, 29]])"
      ]
     },
     "execution_count": 72,
     "metadata": {},
     "output_type": "execute_result"
    }
   ],
   "source": [
    "np.dot(a,b)"
   ]
  },
  {
   "cell_type": "code",
   "execution_count": 73,
   "metadata": {},
   "outputs": [
    {
     "data": {
      "text/plain": [
       "array([[ 9, 13],\n",
       "       [19, 29]])"
      ]
     },
     "execution_count": 73,
     "metadata": {},
     "output_type": "execute_result"
    }
   ],
   "source": [
    "np.matmul(a,b)"
   ]
  },
  {
   "cell_type": "code",
   "execution_count": 74,
   "metadata": {},
   "outputs": [
    {
     "data": {
      "text/plain": [
       "array([[ 9, 13],\n",
       "       [19, 29]])"
      ]
     },
     "execution_count": 74,
     "metadata": {},
     "output_type": "execute_result"
    }
   ],
   "source": [
    "a@b"
   ]
  },
  {
   "cell_type": "code",
   "execution_count": 75,
   "metadata": {},
   "outputs": [
    {
     "data": {
      "text/plain": [
       "array([[1., 2.],\n",
       "       [3., 4.]])"
      ]
     },
     "execution_count": 75,
     "metadata": {},
     "output_type": "execute_result"
    }
   ],
   "source": [
    "a@np.identity(2)"
   ]
  },
  {
   "cell_type": "code",
   "execution_count": 175,
   "metadata": {},
   "outputs": [
    {
     "data": {
      "text/plain": [
       "array([[-2. ,  1.5],\n",
       "       [ 1. , -0.5]])"
      ]
     },
     "execution_count": 175,
     "metadata": {},
     "output_type": "execute_result"
    }
   ],
   "source": [
    "#Matriz inversa\n",
    "A=[[1,3],[2,4]]\n",
    "AI=np.linalg.inv(A)\n",
    "AI"
   ]
  },
  {
   "cell_type": "code",
   "execution_count": 176,
   "metadata": {},
   "outputs": [
    {
     "data": {
      "text/plain": [
       "array([[1., 0.],\n",
       "       [0., 1.]])"
      ]
     },
     "execution_count": 176,
     "metadata": {},
     "output_type": "execute_result"
    }
   ],
   "source": [
    "#verifico que si es la inversa\n",
    "A@AI"
   ]
  },
  {
   "cell_type": "markdown",
   "metadata": {},
   "source": [
    "6. ¿Cuál es la diferencia entre a@b y a*b  ?"
   ]
  },
  {
   "cell_type": "markdown",
   "metadata": {},
   "source": [
    "###  Otras operaciones con matrices"
   ]
  },
  {
   "cell_type": "code",
   "execution_count": 98,
   "metadata": {},
   "outputs": [
    {
     "name": "stdout",
     "output_type": "stream",
     "text": [
      "[[  2  12  22  32  42]\n",
      " [ 52  62  72  82  92]\n",
      " [102 112 122 132 142]\n",
      " [152 162 172 182 192]]\n",
      "[[  2  52 102 152]\n",
      " [ 12  62 112 162]\n",
      " [ 22  72 122 172]\n",
      " [ 32  82 132 182]\n",
      " [ 42  92 142 192]]\n"
     ]
    }
   ],
   "source": [
    "#Sacar la matriz transpuesta\n",
    "x=np.arange(0,90,10).reshape(3,3)\n",
    "x\n",
    "t=np.transpose(x)\n",
    "print(x)\n",
    "print(t)"
   ]
  },
  {
   "cell_type": "code",
   "execution_count": 96,
   "metadata": {},
   "outputs": [
    {
     "data": {
      "text/plain": [
       "array([  2,  62, 122, 182])"
      ]
     },
     "execution_count": 96,
     "metadata": {},
     "output_type": "execute_result"
    }
   ],
   "source": [
    "#extrae la diagonal\n",
    "np.diag(t)"
   ]
  },
  {
   "cell_type": "code",
   "execution_count": 102,
   "metadata": {},
   "outputs": [
    {
     "data": {
      "text/plain": [
       "array([16,  3, 14,  9, 13, 18, 13,  7, 15,  1,  2,  0,  9, 11,  5, 10,  8,\n",
       "       18, 14, 19, 19,  3,  5, 18,  6])"
      ]
     },
     "execution_count": 102,
     "metadata": {},
     "output_type": "execute_result"
    }
   ],
   "source": [
    "#ordenar un arreglo\n",
    "aleat=np.random.randint(20, size=(25))\n",
    "aleat"
   ]
  },
  {
   "cell_type": "code",
   "execution_count": 104,
   "metadata": {},
   "outputs": [
    {
     "data": {
      "text/plain": [
       "array([ 0,  1,  2,  3,  3,  5,  5,  6,  7,  8,  9,  9, 10, 11, 13, 13, 14,\n",
       "       14, 15, 16, 18, 18, 18, 19, 19])"
      ]
     },
     "execution_count": 104,
     "metadata": {},
     "output_type": "execute_result"
    }
   ],
   "source": [
    "aleat=np.sort(aleat)\n",
    "aleat"
   ]
  },
  {
   "cell_type": "markdown",
   "metadata": {},
   "source": [
    "###  Funciones estadísticas"
   ]
  },
  {
   "cell_type": "code",
   "execution_count": 124,
   "metadata": {},
   "outputs": [
    {
     "name": "stdout",
     "output_type": "stream",
     "text": [
      "[12 16  8 10  7 13 13  3 15  4 13 11  5 17 16 10  2  5 16 10 16 14 19  1\n",
      "  0]\n",
      "Media 10.24\n",
      "Mediana 11.0\n",
      "Desviación estandar 5.4352920804681695\n",
      "Varianza 29.5424\n",
      "Promedio 10.24\n",
      "Mínimo 0\n",
      "Máximo 19\n"
     ]
    }
   ],
   "source": [
    "#Algunas estadísticas básicas\n",
    "A=np.random.randint(20, size=(25))\n",
    "print(A)\n",
    "print(\"Media\",np.mean(A))\n",
    "print(\"Mediana\",np.median(A))\n",
    "print(\"Desviación estandar\",np.std(A))\n",
    "print(\"Varianza\",np.var(A))\n",
    "print(\"Promedio\",np.average(A))\n",
    "print(\"Mínimo\",np.amin(A))\n",
    "print(\"Máximo\",np.amax(A))"
   ]
  },
  {
   "cell_type": "code",
   "execution_count": 125,
   "metadata": {},
   "outputs": [
    {
     "name": "stdout",
     "output_type": "stream",
     "text": [
      "[1 2 2 4 1]\n"
     ]
    }
   ],
   "source": [
    "#Menor por columna\n",
    "a=np.array([[1,2,3,4,5],[6,7,2,9,1]])\n",
    "print(np.amin(a, axis=0))"
   ]
  },
  {
   "cell_type": "markdown",
   "metadata": {},
   "source": [
    "###  Funciones trigonométricas"
   ]
  },
  {
   "cell_type": "code",
   "execution_count": 178,
   "metadata": {},
   "outputs": [
    {
     "data": {
      "text/plain": [
       "0.7071067811865476"
      ]
     },
     "execution_count": 178,
     "metadata": {},
     "output_type": "execute_result"
    }
   ],
   "source": [
    "#seno de 90 grados (1)\n",
    "np.sin(np.pi/2)"
   ]
  },
  {
   "cell_type": "code",
   "execution_count": 186,
   "metadata": {},
   "outputs": [
    {
     "data": {
      "image/png": "[encoded data removed]",
      "text/plain": [
       "<Figure size 432x288 with 1 Axes>"
      ]
     },
     "metadata": {
      "needs_background": "light"
     },
     "output_type": "display_data"
    }
   ],
   "source": [
    "import matplotlib.pylab as plt\n",
    "x=np.linspace(-np.pi,np.pi*3,700)\n",
    "plt.plot(x,np.sin(x))\n",
    "plt.xlabel=('Angulo en radianes')\n",
    "plt.ylabel=('Seno de x')\n",
    "plt.axis('tight') #que se ajuste al tamaño\n",
    "plt.show()"
   ]
  },
  {
   "cell_type": "markdown",
   "metadata": {},
   "source": [
    "##  Ejercicios con NumPy para análisis de datos"
   ]
  },
  {
   "cell_type": "markdown",
   "metadata": {},
   "source": [
    "### 1. Extraer los datos que satisfagan una condición por ejemplo los mayores a 5000"
   ]
  },
  {
   "cell_type": "code",
   "execution_count": 128,
   "metadata": {},
   "outputs": [
    {
     "data": {
      "text/plain": [
       "array([[2119, 3629, 5942, 8627, 3305, 4992, 7166, 9746, 9993, 1935, 8847,\n",
       "        4923],\n",
       "       [6601, 5650, 8313, 3047, 2344, 4757, 6389,  370, 7279,  878, 1308,\n",
       "        9707],\n",
       "       [7972, 2756, 6212, 1613, 8602, 6274, 9587, 2848, 4071, 9541, 5995,\n",
       "        1853],\n",
       "       [4516, 9135, 3921, 5893,  984, 1896, 9952, 5634, 1537, 2153, 6553,\n",
       "        1139],\n",
       "       [4439, 7183, 2673, 2246, 2208, 7017, 4951, 4618, 2877, 4059, 7950,\n",
       "        1372],\n",
       "       [5246, 4309, 9491, 9278, 7786, 3154, 1000,  806, 8601, 7707,  519,\n",
       "        4516],\n",
       "       [ 368, 7906,   38, 6311,  931, 4965, 6203,  421, 4248, 1345, 8520,\n",
       "        3661],\n",
       "       [5816, 3474, 6769, 3175, 7295,  667, 9561, 3231, 7770, 5656, 3458,\n",
       "        8123],\n",
       "       [9829, 3392, 4472, 7783, 2253, 9395, 6226, 9732, 3948,  544, 8888,\n",
       "        1256],\n",
       "       [1903, 7751,  994, 9711, 3238,  902, 7939, 2970, 4198, 4355,  801,\n",
       "        8843]])"
      ]
     },
     "execution_count": 128,
     "metadata": {},
     "output_type": "execute_result"
    }
   ],
   "source": [
    "#Genera las ventas de 10 vendedores por 12 meses\n",
    "ventas=np.random.randint(0,10001, size=(10,12))\n",
    "ventas"
   ]
  },
  {
   "cell_type": "code",
   "execution_count": 132,
   "metadata": {},
   "outputs": [
    {
     "data": {
      "text/plain": [
       "array([[False, False,  True,  True, False, False,  True,  True,  True,\n",
       "        False,  True, False],\n",
       "       [ True,  True,  True, False, False, False,  True, False,  True,\n",
       "        False, False,  True],\n",
       "       [ True, False,  True, False,  True,  True,  True, False, False,\n",
       "         True,  True, False],\n",
       "       [False,  True, False,  True, False, False,  True,  True, False,\n",
       "        False,  True, False],\n",
       "       [False,  True, False, False, False,  True, False, False, False,\n",
       "        False,  True, False],\n",
       "       [ True, False,  True,  True,  True, False, False, False,  True,\n",
       "         True, False, False],\n",
       "       [False,  True, False,  True, False, False,  True, False, False,\n",
       "        False,  True, False],\n",
       "       [ True, False,  True, False,  True, False,  True, False,  True,\n",
       "         True, False,  True],\n",
       "       [ True, False, False,  True, False,  True,  True,  True, False,\n",
       "        False,  True, False],\n",
       "       [False,  True, False,  True, False, False,  True, False, False,\n",
       "        False, False,  True]])"
      ]
     },
     "execution_count": 132,
     "metadata": {},
     "output_type": "execute_result"
    }
   ],
   "source": [
    "res=ventas>5000\n",
    "res"
   ]
  },
  {
   "cell_type": "code",
   "execution_count": 134,
   "metadata": {},
   "outputs": [
    {
     "data": {
      "text/plain": [
       "array([1935,  370,  878, 1308, 1613, 1853,  984, 1896, 1537, 1139, 1372,\n",
       "       1000,  806,  519,  368,   38,  931,  421, 1345,  667,  544, 1256,\n",
       "       1903,  994,  902,  801])"
      ]
     },
     "execution_count": 134,
     "metadata": {},
     "output_type": "execute_result"
    }
   ],
   "source": [
    "may5000=np.extract(res,ventas)  #en un paso may5000=np.extract(ventas>5000,ventas)\n",
    "may5000"
   ]
  },
  {
   "cell_type": "markdown",
   "metadata": {},
   "source": [
    "**Ejercicios:**\n",
    "    -  Extrae las ventas menores a 2000\n",
    "    -  Extrae las ventas mayores al promedio"
   ]
  },
  {
   "cell_type": "markdown",
   "metadata": {},
   "source": [
    "### 2. Reemplaza los elementos que satisfagan una condición por ejemplo los negativos por 0"
   ]
  },
  {
   "cell_type": "code",
   "execution_count": 136,
   "metadata": {},
   "outputs": [
    {
     "data": {
      "text/plain": [
       "array([ 59,  20, 105,  12,  76, 106, -11, 104,  24, 116,  24, -28,  16,\n",
       "        63,  42,  61,  16,  23,   1,  92,  45,  64,  -9,  24,  69,  32,\n",
       "        54,   7,  -4,   5])"
      ]
     },
     "execution_count": 136,
     "metadata": {},
     "output_type": "execute_result"
    }
   ],
   "source": [
    "# Genera edades algunas con errores\n",
    "edades=np.random.randint(-30,120, size=(30))\n",
    "edades"
   ]
  },
  {
   "cell_type": "code",
   "execution_count": 137,
   "metadata": {},
   "outputs": [
    {
     "data": {
      "text/plain": [
       "array([ 59,  20, 105,  12,  76, 106,   0, 104,  24, 116,  24,   0,  16,\n",
       "        63,  42,  61,  16,  23,   1,  92,  45,  64,   0,  24,  69,  32,\n",
       "        54,   7,   0,   5])"
      ]
     },
     "execution_count": 137,
     "metadata": {},
     "output_type": "execute_result"
    }
   ],
   "source": [
    "edadesN=np.where(edades<0,0,edades)\n",
    "edadesN"
   ]
  },
  {
   "cell_type": "markdown",
   "metadata": {},
   "source": [
    "**Ejercicio:** reemplaza los negativos por la media"
   ]
  },
  {
   "cell_type": "markdown",
   "metadata": {},
   "source": [
    "Revisar uso de NumPy para procesar imágenes\n",
    "https://note.nkmk.me/en/python-numpy-image-processing/"
   ]
  },
  {
   "cell_type": "markdown",
   "metadata": {},
   "source": [
    "## Soluciones de los ejercicios"
   ]
  },
  {
   "cell_type": "code",
   "execution_count": 144,
   "metadata": {},
   "outputs": [
    {
     "name": "stdout",
     "output_type": "stream",
     "text": [
      "[[[ 1  2  3]\n",
      "  [ 4  5  6]]\n",
      "\n",
      " [[ 7  8  9]\n",
      "  [10 11 12]]]\n"
     ]
    }
   ],
   "source": [
    "# 1.Crea e imprime un arreglo de tres dimensiones\n",
    "tres=np.array([[[1,2,3],[4,5,6]],[[7,8,9],[10,11,12]]])\n",
    "print(tres)"
   ]
  },
  {
   "cell_type": "code",
   "execution_count": 158,
   "metadata": {},
   "outputs": [
    {
     "data": {
      "text/plain": [
       "array([[1., 1., 1., 1., 1.],\n",
       "       [1., 0., 0., 0., 1.],\n",
       "       [1., 0., 5., 0., 1.],\n",
       "       [1., 0., 0., 0., 1.],\n",
       "       [1., 1., 1., 1., 1.]])"
      ]
     },
     "execution_count": 158,
     "metadata": {},
     "output_type": "execute_result"
    }
   ],
   "source": [
    "# 2. Crea una matriz de 5x5 asi:\n",
    "#      1  1  1  1  1\n",
    "#      1  0  0  0  1\n",
    "#      1  0  5  0  1\n",
    "#      1  0  0  0  1\n",
    "#      1  1  1  1  1\n",
    "mat=np.ones((5,5))\n",
    "mat[1:4,1:4]=0\n",
    "mat[2,2]=5\n",
    "mat"
   ]
  },
  {
   "cell_type": "code",
   "execution_count": 162,
   "metadata": {},
   "outputs": [
    {
     "data": {
      "text/plain": [
       "array([[ 5, 10, 15, 20],\n",
       "       [25, 30, 35, 40]])"
      ]
     },
     "execution_count": 162,
     "metadata": {},
     "output_type": "execute_result"
    }
   ],
   "source": [
    "#3. Crea una matriz con los multiplos de 5 de 5 a 40 asi:\n",
    "#   5  10  15  20\n",
    "#   25 30  35  40\n",
    "cincos=np.arange(5,45,5).reshape(2,4)\n",
    "cincos"
   ]
  },
  {
   "cell_type": "code",
   "execution_count": 170,
   "metadata": {},
   "outputs": [
    {
     "data": {
      "text/plain": [
       "array([ 7,  9, 11, 13, 15])"
      ]
     },
     "execution_count": 170,
     "metadata": {},
     "output_type": "execute_result"
    }
   ],
   "source": [
    "#4. Calcula la suma de columnas\n",
    "a=np.array([[1,2,3,4,5],[6,7,8,9,10]])\n",
    "sumacol=np.sum(a, axis=0)\n",
    "sumacol"
   ]
  },
  {
   "cell_type": "code",
   "execution_count": 171,
   "metadata": {},
   "outputs": [
    {
     "data": {
      "text/plain": [
       "13"
      ]
     },
     "execution_count": 171,
     "metadata": {},
     "output_type": "execute_result"
    }
   ],
   "source": [
    "#5. ¿Cómo imprimo solo la suma de una columna en particular?\n",
    "sumacol[3]"
   ]
  },
  {
   "cell_type": "code",
   "execution_count": 172,
   "metadata": {},
   "outputs": [
    {
     "name": "stdout",
     "output_type": "stream",
     "text": [
      "[[ 9 13]\n",
      " [19 29]]\n",
      "[[ 1  6]\n",
      " [12 20]]\n"
     ]
    }
   ],
   "source": [
    "#6. ¿Cuál es la diferencia entre a@b y a*b  ?\n",
    "a=np.array([[1,2],[3,4]])\n",
    "b=np.array([[1,3],[4,5]])\n",
    "print(a@b) #multiplicación de matrices\n",
    "print(a*b) #multiplicación de elementos\n"
   ]
  },
  {
   "cell_type": "markdown",
   "metadata": {},
   "source": [
    "**Tarea:**\n",
    " Ir pensando proyecto final: seleccionar una o dos librerías de Python que sean relevantes para un problema, explicar las librerías en ese contexto y cómo se podrán aplicar a un problema propuesto.\n",
    "    "
   ]
  },
  {
   "cell_type": "code",
   "execution_count": null,
   "metadata": {},
   "outputs": [],
   "source": []
  }
 ],
 "metadata": {
  "kernelspec": {
   "display_name": "Python 3",
   "language": "python",
   "name": "python3"
  },
  "language_info": {
   "codemirror_mode": {
    "name": "ipython",
    "version": 3
   },
   "file_extension": ".py",
   "mimetype": "text/x-python",
   "name": "python",
   "nbconvert_exporter": "python",
   "pygments_lexer": "ipython3",
   "version": "3.7.3"
  }
 },
 "nbformat": 4,
 "nbformat_minor": 2
}
